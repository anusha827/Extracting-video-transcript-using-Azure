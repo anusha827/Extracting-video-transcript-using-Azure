{
 "cells": [
  {
   "cell_type": "code",
   "execution_count": 1,
   "id": "573b7265",
   "metadata": {},
   "outputs": [],
   "source": [
    "import moviepy.editor as mp"
   ]
  },
  {
   "cell_type": "code",
   "execution_count": 2,
   "id": "de675be9",
   "metadata": {},
   "outputs": [],
   "source": [
    "my_clip=mp.VideoFileClip(r\"E:\\python files\\BotExample.mp4\")"
   ]
  },
  {
   "cell_type": "code",
   "execution_count": 3,
   "id": "53453ffd",
   "metadata": {},
   "outputs": [
    {
     "data": {
      "text/plain": [
       "<moviepy.video.io.VideoFileClip.VideoFileClip at 0xb5a1d90>"
      ]
     },
     "execution_count": 3,
     "metadata": {},
     "output_type": "execute_result"
    }
   ],
   "source": [
    "my_clip"
   ]
  },
  {
   "cell_type": "code",
   "execution_count": 4,
   "id": "b866f5ac",
   "metadata": {},
   "outputs": [
    {
     "name": "stdout",
     "output_type": "stream",
     "text": [
      "MoviePy - Writing audio in result_audio.mp3\n"
     ]
    },
    {
     "name": "stderr",
     "output_type": "stream",
     "text": [
      "                                                                               "
     ]
    },
    {
     "name": "stdout",
     "output_type": "stream",
     "text": [
      "MoviePy - Done.\n"
     ]
    },
    {
     "name": "stderr",
     "output_type": "stream",
     "text": [
      "\r"
     ]
    }
   ],
   "source": [
    "my_clip.audio.write_audiofile(r\"result_audio.mp3\")"
   ]
  },
  {
   "cell_type": "code",
   "execution_count": 7,
   "id": "71f59c98",
   "metadata": {},
   "outputs": [
    {
     "name": "stdout",
     "output_type": "stream",
     "text": [
      "Enter a string to search: demo\n",
      "demo found in line 10 and the time range between\n"
     ]
    }
   ],
   "source": [
    "file = open(\"transcript.vtt\", \"r\")\n",
    "flag=0\n",
    "index=0\n",
    "string=input('Enter a string to search: ')\n",
    "\n",
    "\n",
    "for line in file:\n",
    "    index =index + 1\n",
    "    \n",
    "    if string in line:\n",
    "        flag=1\n",
    "        break\n",
    "\n",
    "# timerange=index-1\n",
    "        \n",
    "if flag == 0:\n",
    "    print('String not found')\n",
    "else:\n",
    "    print('{} found in line {} and the time range between'.format(string,index))\n",
    "    \n",
    "file.close()\n"
   ]
  },
  {
   "cell_type": "code",
   "execution_count": null,
   "id": "7d2bc39d",
   "metadata": {},
   "outputs": [],
   "source": []
  }
 ],
 "metadata": {
  "kernelspec": {
   "display_name": "Python 3",
   "language": "python",
   "name": "python3"
  },
  "language_info": {
   "codemirror_mode": {
    "name": "ipython",
    "version": 3
   },
   "file_extension": ".py",
   "mimetype": "text/x-python",
   "name": "python",
   "nbconvert_exporter": "python",
   "pygments_lexer": "ipython3",
   "version": "3.8.5"
  }
 },
 "nbformat": 4,
 "nbformat_minor": 5
}
