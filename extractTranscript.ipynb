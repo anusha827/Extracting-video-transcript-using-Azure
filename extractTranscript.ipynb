{
 "cells": [
  {
   "cell_type": "code",
   "execution_count": 4,
   "id": "1b2f9978",
   "metadata": {},
   "outputs": [
    {
     "name": "stdout",
     "output_type": "stream",
     "text": [
      "Note: you may need to restart the kernel to use updated packages.Requirement already satisfied: ffmpeg in c:\\users\\hello\\appdata\\local\\programs\\python\\python38-32\\lib\\site-packages (1.4)\n"
     ]
    },
    {
     "name": "stderr",
     "output_type": "stream",
     "text": [
      "WARNING: You are using pip version 21.1.1; however, version 21.2.1 is available.\n",
      "You should consider upgrading via the 'c:\\users\\hello\\appdata\\local\\programs\\python\\python38-32\\python.exe -m pip install --upgrade pip' command.\n"
     ]
    },
    {
     "name": "stdout",
     "output_type": "stream",
     "text": [
      "\n",
      "Requirement already satisfied: moviepy in c:\\users\\hello\\appdata\\local\\programs\\python\\python38-32\\lib\\site-packages (1.0.3)\n",
      "Requirement already satisfied: imageio-ffmpeg>=0.2.0 in c:\\users\\hello\\appdata\\local\\programs\\python\\python38-32\\lib\\site-packages (from moviepy) (0.4.4)\n",
      "Requirement already satisfied: requests<3.0,>=2.8.1 in c:\\users\\hello\\appdata\\roaming\\python\\python38\\site-packages (from moviepy) (2.25.1)\n",
      "Requirement already satisfied: numpy in c:\\users\\hello\\appdata\\local\\programs\\python\\python38-32\\lib\\site-packages (from moviepy) (1.20.2)\n",
      "Requirement already satisfied: proglog<=1.0.0 in c:\\users\\hello\\appdata\\local\\programs\\python\\python38-32\\lib\\site-packages (from moviepy) (0.1.9)\n",
      "Requirement already satisfied: tqdm<5.0,>=4.11.2 in c:\\users\\hello\\appdata\\local\\programs\\python\\python38-32\\lib\\site-packages (from moviepy) (4.61.2)\n",
      "Requirement already satisfied: decorator<5.0,>=4.0.2 in c:\\users\\hello\\appdata\\local\\programs\\python\\python38-32\\lib\\site-packages (from moviepy) (4.4.2)\n",
      "Requirement already satisfied: imageio<3.0,>=2.5 in c:\\users\\hello\\appdata\\local\\programs\\python\\python38-32\\lib\\site-packages (from moviepy) (2.9.0)\n",
      "Requirement already satisfied: pillow in c:\\users\\hello\\appdata\\local\\programs\\python\\python38-32\\lib\\site-packages (from imageio<3.0,>=2.5->moviepy) (8.2.0)\n",
      "Requirement already satisfied: chardet<5,>=3.0.2 in c:\\users\\hello\\appdata\\roaming\\python\\python38\\site-packages (from requests<3.0,>=2.8.1->moviepy) (4.0.0)\n",
      "Requirement already satisfied: certifi>=2017.4.17 in c:\\users\\hello\\appdata\\roaming\\python\\python38\\site-packages (from requests<3.0,>=2.8.1->moviepy) (2020.12.5)\n",
      "Requirement already satisfied: idna<3,>=2.5 in c:\\users\\hello\\appdata\\roaming\\python\\python38\\site-packages (from requests<3.0,>=2.8.1->moviepy) (2.10)\n",
      "Requirement already satisfied: urllib3<1.27,>=1.21.1 in c:\\users\\hello\\appdata\\roaming\\python\\python38\\site-packages (from requests<3.0,>=2.8.1->moviepy) (1.26.4)\n",
      "Requirement already satisfied: colorama in c:\\users\\hello\\appdata\\local\\programs\\python\\python38-32\\lib\\site-packages (from tqdm<5.0,>=4.11.2->moviepy) (0.4.4)\n"
     ]
    }
   ],
   "source": [
    "pip install ffmpeg moviepy"
   ]
  },
  {
   "cell_type": "code",
   "execution_count": 5,
   "id": "0a9f83bd",
   "metadata": {},
   "outputs": [],
   "source": [
    "import moviepy.editor as mp"
   ]
  },
  {
   "cell_type": "code",
   "execution_count": 6,
   "id": "5bd38f54",
   "metadata": {},
   "outputs": [],
   "source": [
    "my_clip=mp.VideoFileClip(r\"E:\\python files\\BotExample.mp4\")"
   ]
  },
  {
   "cell_type": "code",
   "execution_count": 7,
   "id": "01e2e116",
   "metadata": {},
   "outputs": [
    {
     "data": {
      "text/plain": [
       "<moviepy.video.io.VideoFileClip.VideoFileClip at 0xb601fb8>"
      ]
     },
     "execution_count": 7,
     "metadata": {},
     "output_type": "execute_result"
    }
   ],
   "source": [
    "my_clip"
   ]
  },
  {
   "cell_type": "code",
   "execution_count": 8,
   "id": "4190a4af",
   "metadata": {},
   "outputs": [
    {
     "name": "stdout",
     "output_type": "stream",
     "text": [
      "MoviePy - Writing audio in result_audio.mp3\n"
     ]
    },
    {
     "name": "stderr",
     "output_type": "stream",
     "text": [
      "                                                                               "
     ]
    },
    {
     "name": "stdout",
     "output_type": "stream",
     "text": [
      "MoviePy - Done.\n"
     ]
    },
    {
     "name": "stderr",
     "output_type": "stream",
     "text": [
      "\r"
     ]
    }
   ],
   "source": [
    "my_clip.audio.write_audiofile(r\"result_audio.mp3\")"
   ]
  },
  {
   "cell_type": "code",
   "execution_count": 20,
   "id": "8da95d45",
   "metadata": {},
   "outputs": [
    {
     "name": "stdout",
     "output_type": "stream",
     "text": [
      "Enter a string to search: demo\n",
      "demo found in line 10 and the time range between 9\n"
     ]
    }
   ],
   "source": [
    "file = open(\"transcript.vtt\", \"r\")\n",
    "flag=0\n",
    "index=0\n",
    "string=input('Enter a string to search: ')\n",
    "\n",
    "\n",
    "for line in file:\n",
    "    index =index + 1\n",
    "    \n",
    "    if string in line:\n",
    "        flag=1\n",
    "        break\n",
    "\n",
    "timerange=index-1\n",
    "        \n",
    "if flag == 0:\n",
    "    print('String not found')\n",
    "else:\n",
    "    print('{} found in line {} and the time range between {}'.format(string,index,timerange))\n",
    "    \n",
    "file.close()\n"
   ]
  },
  {
   "cell_type": "code",
   "execution_count": null,
   "id": "2173260b",
   "metadata": {},
   "outputs": [],
   "source": []
  }
 ],
 "metadata": {
  "kernelspec": {
   "display_name": "Python 3",
   "language": "python",
   "name": "python3"
  },
  "language_info": {
   "codemirror_mode": {
    "name": "ipython",
    "version": 3
   },
   "file_extension": ".py",
   "mimetype": "text/x-python",
   "name": "python",
   "nbconvert_exporter": "python",
   "pygments_lexer": "ipython3",
   "version": "3.8.5"
  }
 },
 "nbformat": 4,
 "nbformat_minor": 5
}
